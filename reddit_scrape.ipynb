{
 "cells": [
  {
   "cell_type": "code",
   "execution_count": 1,
   "metadata": {},
   "outputs": [],
   "source": [
    "import praw\n",
    "import pandas as pd\n",
    "import datetime as dt\n",
    "import re\n",
    "import csv"
   ]
  },
  {
   "cell_type": "code",
   "execution_count": 2,
   "metadata": {},
   "outputs": [],
   "source": [
    "reddit = praw.Reddit(client_id='QZuxM_pRnbg5Mw',\n",
    "                    client_secret='A7Ig0KJ3dTekgOUbz2y56RwEaZE',\n",
    "                    user_agent='Mind Change Log',\n",
    "                    username='loganamcnichols',\n",
    "                    password='L703htw7e!')"
   ]
  },
  {
   "cell_type": "code",
   "execution_count": 21,
   "metadata": {},
   "outputs": [],
   "source": [
    "def get_comments(limit=10):\n",
    "    successful_comments = []\n",
    "    unsuccessful_comments = []\n",
    "    cmv = reddit.subreddit('changemyview')\n",
    "    top_posts = cmv.top(limit=limit)\n",
    "    for post in top_posts:\n",
    "        author = post.author\n",
    "        for j, comment in enumerate(post.comments):\n",
    "            if comment.author == \"DeltaBot\":\n",
    "                link = extract_link(comment)\n",
    "                delta_comments = get_delta_comments(link)\n",
    "                successful_comments += list(delta_comments.values())\n",
    "            elif comment.author == author:\n",
    "                continue\n",
    "            elif comment in delta_comments.keys():\n",
    "                continue\n",
    "            else:\n",
    "                unsuccessful_comments.append(comment.body)\n",
    "                if j >= len(delta_comments):\n",
    "                    break\n",
    "    return successful_comments, unsuccessful_comments"
   ]
  },
  {
   "cell_type": "code",
   "execution_count": 4,
   "metadata": {},
   "outputs": [],
   "source": [
    "def extract_link(comment):\n",
    "    string = comment.body\n",
    "    link_groups = re.search(\"(?<=\\])\\((.+?)\\)\", string)\n",
    "    return link_groups.group(1)"
   ]
  },
  {
   "cell_type": "code",
   "execution_count": 19,
   "metadata": {},
   "outputs": [],
   "source": [
    "def get_delta_comments(link):\n",
    "    comment_dict = {}\n",
    "    url = \"https://reddit.com\" + link\n",
    "    submission = praw.models.Submission(reddit, url=url)\n",
    "    comments = submission.selftext\n",
    "    comment_links = re.findall('(?<=[...]])\\((.+?)\\)|(?<=[..\"]])\\((.+?)\\)', comments)\n",
    "    comment_links = [i + j for (i,j) in comment_links]\n",
    "    comment_links = abbreviate(comment_links)\n",
    "    for link in comment_links:\n",
    "        url = \"https://reddit.com\" + link\n",
    "        submission = praw.models.Submission(reddit, url=url)\n",
    "        cid = submission.id\n",
    "        comment_dict[cid] = submission.selftext\n",
    "    return comment_dict"
   ]
  },
  {
   "cell_type": "code",
   "execution_count": 20,
   "metadata": {},
   "outputs": [],
   "source": [
    "def abbreviate(links):\n",
    "    short_links = []\n",
    "    for link in links:\n",
    "        pattern = re.search(\"/\\w+/\\w+/\\w+/\\w+\", link)\n",
    "        link = pattern.group(0)\n",
    "        short_links.append(link)\n",
    "    short_links = list(set(short_links))\n",
    "    return short_links"
   ]
  }
 ],
 "metadata": {
  "kernelspec": {
   "display_name": "Python 3",
   "language": "python",
   "name": "python3"
  },
  "language_info": {
   "codemirror_mode": {
    "name": "ipython",
    "version": 3
   },
   "file_extension": ".py",
   "mimetype": "text/x-python",
   "name": "python",
   "nbconvert_exporter": "python",
   "pygments_lexer": "ipython3",
   "version": "3.7.6"
  }
 },
 "nbformat": 4,
 "nbformat_minor": 2
}
