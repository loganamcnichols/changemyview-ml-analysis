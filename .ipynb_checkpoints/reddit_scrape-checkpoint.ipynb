{
 "cells": [
  {
   "cell_type": "code",
   "execution_count": 1,
   "metadata": {},
   "outputs": [],
   "source": [
    "import praw\n",
    "import pandas as pd\n",
    "import datetime as dt\n",
    "import re\n",
    "import csv"
   ]
  },
  {
   "cell_type": "code",
   "execution_count": 2,
   "metadata": {},
   "outputs": [],
   "source": [
    "reddit = praw.Reddit(client_id='QZuxM_pRnbg5Mw',\n",
    "                    client_secret='A7Ig0KJ3dTekgOUbz2y56RwEaZE',\n",
    "                    user_agent='Mind Change Log',\n",
    "                    username='loganamcnichols',\n",
    "                    password='L703htw7e!')"
   ]
  },
  {
   "cell_type": "code",
   "execution_count": 3,
   "metadata": {},
   "outputs": [],
   "source": [
    "def get_comments(limit=10):\n",
    "    successful_comments = []\n",
    "    unsuccessful_comments = []\n",
    "    cmv = reddit.subreddit('changemyview')\n",
    "    top_posts = cmv.top(limit=limit)\n",
    "    for post in top_posts:\n",
    "        author = post.author\n",
    "        for j, comment in enumerate(post.comments):\n",
    "            if comment.author == \"DeltaBot\":\n",
    "                link = extract_link(comment)\n",
    "                delta_comments = get_delta_comments(link)\n",
    "                successful_comments += list(delta_comments.values())\n",
    "            elif comment.author == author:\n",
    "                continue\n",
    "            elif comment in delta_comments.keys():\n",
    "                continue\n",
    "            else:\n",
    "                unsuccessful_comments.append(comment.body)\n",
    "                if j >= len(delta_comments):\n",
    "                    break\n",
    "    return successful_comments, unsuccessful_comments"
   ]
  },
  {
   "cell_type": "code",
   "execution_count": 4,
   "metadata": {},
   "outputs": [],
   "source": [
    "def extract_link(comment):\n",
    "    string = comment.body\n",
    "    link_groups = re.search(\"(?<=\\])\\((.+?)\\)\", string)\n",
    "    return link_groups.group(1)"
   ]
  },
  {
   "cell_type": "code",
   "execution_count": 5,
   "metadata": {},
   "outputs": [],
   "source": [
    "def get_delta_comments(link):\n",
    "    comment_dict = {}\n",
    "    url = \"https://reddit.com\" + link\n",
    "    submission = praw.models.Submission(reddit, url=url)\n",
    "    comments = submission.selftext\n",
    "    comment_links = re.findall('(?<=[...]])\\((.+?)\\)|(?<=[..\"]])\\((.+?)\\)', comments)\n",
    "    comment_links = [i + j for (i,j) in comment_links]\n",
    "    comment_links = abbreviate(comment_links)\n",
    "    for link in comment_links:\n",
    "        url = \"https://reddit.com\" + link\n",
    "        submission = praw.models.Submission(reddit, url=url)\n",
    "        cid = submission.id\n",
    "        text = submission.selftext.replace('\\n', '')\n",
    "        comment_dict[cid] = text\n",
    "    return comment_dict"
   ]
  },
  {
   "cell_type": "code",
   "execution_count": 6,
   "metadata": {},
   "outputs": [],
   "source": [
    "def abbreviate(links):\n",
    "    short_links = []\n",
    "    for link in links:\n",
    "        pattern = re.search(\"/\\w+/\\w+/\\w+/\\w+\", link)\n",
    "        link = pattern.group(0)\n",
    "        short_links.append(link)\n",
    "    short_links = list(set(short_links))\n",
    "    return short_links"
   ]
  },
  {
   "cell_type": "code",
   "execution_count": 7,
   "metadata": {},
   "outputs": [
    {
     "data": {
      "text/plain": [
       "(['Recently saw an issue going around social media where and airport worker shared the ticket for a child named \"Abcde\" and her mother went feral about the negative attention.  It seems any attention the name recieves is \"shaming\" or \"bullying.\"I feel terrible that a child is involved in this, but I don\\'t see any other explanation then this girl mother planned for and most likely desired this situation when she chose a name.It seems down right delusional to select an absurd or elaborately out of the ordinary spelling for a name and not expect attention or criticism. It would be nice if that wasn\\'t the world we lived in, but really believing that would be a break from reality.  And what is the point of a \\'unique\\' name other than standing out and seeking attention?I\\'m honestly more appalled by the indignation of the mother than actions of the airline employee who starts this...Edit: so I need to clarify. I\\'m not trying to argue that the worker who shared it wasn\\'t crossing a line. What she did was unprofessional. People keep trying to direct the conversation in that direction, but I agree with it - my position is more that the parents are culpable in this too.Edit2: I was talking with a former nurse from Davidson Michigan tonight about this. Apparently, during her tenure a judge had previously prevented a Mom from naming her twins Gonorrhea and Syphilis. So there is some precidents in the US justice system prevent certain names?Edit3: Apparently La-a is a fairly common spelling for \"Ladasha.\"Edit4: Wow, this blew up...'],\n",
       " ['>If you name your child something like \"Abcde\" (pronounced \\'Absidy\\') and get upset at the mispronunciation or negative attention it brings, you knew what you were doing and you wanted the attention for yourself.\\n\\n>I don\\'t see any other explanation then this girl mother planned for and most likely desired this situation when she chose a name.\\n\\nI think you are on the right track but are taking too absolutist of a position.  Have considered that people are stupid or short sighted?  These people often don\\'t consider the consequences...or are not considering all of the consequences.\\n\\nPlaying stupid games get you stupid prizes.  This woman, who is possibly stupid but was definitely short sighted her, probably never considered the full extent of the attention her child would be getting.  She wanted to be unique and/or float about with superiority at her own cleverness when someone questioned the name or stumbled upon pronunciation.\\n\\nWhat the mom never expected was for this to be more than just a momentary trolling of a teacher or private victories.  If she did expect this to be public and viral, than that would be maliciously subjecting your daughter to torment for a bit of an ego pleaser.\\n\\nWe shouldn\\'t assume malice where stupidity is just as possible and even easier.  The mom probably assumed people would accept it or maybe talk about it amongst themselves in private.  Having a massive public issue come about is where the mom was short sighted.  None of us ever expect or deserve the entire world to find out about our mistakes and revel in them.\\n\\nEdit: spelling and wanted to be politer/less cynical.'])"
      ]
     },
     "execution_count": 7,
     "metadata": {},
     "output_type": "execute_result"
    }
   ],
   "source": [
    "get_comments(limit=1)"
   ]
  },
  {
   "cell_type": "code",
   "execution_count": null,
   "metadata": {},
   "outputs": [],
   "source": []
  }
 ],
 "metadata": {
  "kernelspec": {
   "display_name": "Python 3",
   "language": "python",
   "name": "python3"
  },
  "language_info": {
   "codemirror_mode": {
    "name": "ipython",
    "version": 3
   },
   "file_extension": ".py",
   "mimetype": "text/x-python",
   "name": "python",
   "nbconvert_exporter": "python",
   "pygments_lexer": "ipython3",
   "version": "3.7.6"
  }
 },
 "nbformat": 4,
 "nbformat_minor": 2
}
